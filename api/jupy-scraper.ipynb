{
 "cells": [
  {
   "cell_type": "code",
   "execution_count": 27,
   "metadata": {},
   "outputs": [
    {
     "data": {
      "text/plain": [
       "403"
      ]
     },
     "execution_count": 27,
     "metadata": {},
     "output_type": "execute_result"
    }
   ],
   "source": [
    "from bs4 import BeautifulSoup as _bs\n",
    "import requests as _req\n",
    "\n",
    "#taking the url from the different stores\n",
    "\n",
    "headers = {'User-Agent':'Mozilla/5.0'}\n",
    "\n",
    "\n",
    "DIA_URL = _req.get('https://www.dia.es/compra-online/despensa/pan/picos-de-pan/p/59304')\n",
    "JAMON_URL = _req.get('https://www.supermercadoseljamon.com/detalle/-/Producto/picos-finos-integrales-250g/23025302')\n",
    "CARREFOUR_URL = _req.get('https://www.carrefour.es/supermercado/colines-integrales-carrefour-250-g/R-prod970952/p', headers=headers)\n",
    "\n",
    "\n",
    "CARREFOUR_URL.status_code #right now this status code is 403 (forbidden), we must to fix it.\n",
    "\n"
   ]
  },
  {
   "cell_type": "code",
   "execution_count": null,
   "metadata": {},
   "outputs": [],
   "source": []
  }
 ],
 "metadata": {
  "interpreter": {
   "hash": "61e32aa6d945e09364b5a0682511897a24d4c71f4e131dd0941a2ddd926d4351"
  },
  "kernelspec": {
   "display_name": "Python 3.8.10 ('roscos-price-API-U_-jXGME')",
   "language": "python",
   "name": "python3"
  },
  "language_info": {
   "codemirror_mode": {
    "name": "ipython",
    "version": 3
   },
   "file_extension": ".py",
   "mimetype": "text/x-python",
   "name": "python",
   "nbconvert_exporter": "python",
   "pygments_lexer": "ipython3",
   "version": "3.8.10"
  },
  "orig_nbformat": 4
 },
 "nbformat": 4,
 "nbformat_minor": 2
}
