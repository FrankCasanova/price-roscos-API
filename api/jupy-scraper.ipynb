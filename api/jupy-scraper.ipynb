{
 "cells": [
  {
   "cell_type": "code",
   "execution_count": 4,
   "metadata": {},
   "outputs": [],
   "source": [
    "import bs4 as _bs4\n",
    "import requests as _req\n",
    "\n",
    "#taking the url from the different stores\n",
    "\n",
    "headers = {'User-Agent':'Mozilla/5.0'}\n",
    "\n",
    "\n",
    "DIA_URL = _req.get('https://www.dia.es/compra-online/despensa/pan/picos-de-pan/p/59304', headers=headers)\n",
    "JAMON_URL = _req.get('https://www.supermercadoseljamon.com/detalle/-/Producto/picos-finos-integrales-250g/23025302', headers=headers)\n",
    "CARREFOUR_URL = _req.get('https://www.carrefour.es/supermercado/colines-integrales-carrefour-250-g/R-prod970952/p', headers=headers)\n",
    "\n",
    "\n",
    "\n",
    "\n"
   ]
  },
  {
   "cell_type": "code",
   "execution_count": 5,
   "metadata": {},
   "outputs": [],
   "source": [
    "dia_soup = _bs4.BeautifulSoup(DIA_URL.content, 'html.parser')\n",
    "jamon_soup = _bs4.BeautifulSoup(JAMON_URL.content, 'html.parser')\n",
    "carrefour_soup = _bs4.BeautifulSoup(CARREFOUR_URL.content, 'html.parser')"
   ]
  },
  {
   "cell_type": "code",
   "execution_count": 6,
   "metadata": {},
   "outputs": [
    {
     "data": {
      "text/plain": [
       "'2,60€/Kg.'"
      ]
     },
     "execution_count": 6,
     "metadata": {},
     "output_type": "execute_result"
    }
   ],
   "source": [
    "#DIA store data.\n",
    "\n",
    "dia_soup.find('span', class_='big-price').text.replace('\\xa0', '')\n",
    "dia_soup.find('h1').text\n",
    "dia_soup.find('span', class_='average-price').text.replace('\\r\\n\\t\\t\\t\\t\\t', '').replace('\\xa0', '')\n",
    "\n"
   ]
  },
  {
   "cell_type": "code",
   "execution_count": 37,
   "metadata": {},
   "outputs": [
    {
     "data": {
      "text/plain": [
       "'2,04 €/kg'"
      ]
     },
     "execution_count": 37,
     "metadata": {},
     "output_type": "execute_result"
    }
   ],
   "source": [
    "title = carrefour_soup.find('h1', class_=\"product-header__name\").text.replace('\\n', '').strip()\n",
    "price = carrefour_soup.find('span', class_=\"buybox__price\").text.strip()\n",
    "price_kg = carrefour_soup.find('div', class_=\"buybox__price-per-unit\").text.strip().replace('\\n', '')\n"
   ]
  },
  {
   "cell_type": "code",
   "execution_count": null,
   "metadata": {},
   "outputs": [],
   "source": []
  }
 ],
 "metadata": {
  "interpreter": {
   "hash": "61e32aa6d945e09364b5a0682511897a24d4c71f4e131dd0941a2ddd926d4351"
  },
  "kernelspec": {
   "display_name": "Python 3.8.10 ('roscos-price-API-U_-jXGME')",
   "language": "python",
   "name": "python3"
  },
  "language_info": {
   "codemirror_mode": {
    "name": "ipython",
    "version": 3
   },
   "file_extension": ".py",
   "mimetype": "text/x-python",
   "name": "python",
   "nbconvert_exporter": "python",
   "pygments_lexer": "ipython3",
   "version": "3.8.10"
  },
  "orig_nbformat": 4
 },
 "nbformat": 4,
 "nbformat_minor": 2
}
